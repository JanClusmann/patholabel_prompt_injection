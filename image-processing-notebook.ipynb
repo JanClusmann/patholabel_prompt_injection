{
 "cells": [
  {
   "cell_type": "markdown",
   "metadata": {},
   "source": [
    "# Image Processing with Labels\n",
    "\n",
    "This notebook processes patient images by adding labels based on the information in an Excel file."
   ]
  },
  {
   "cell_type": "code",
   "execution_count": 1,
   "metadata": {},
   "outputs": [],
   "source": [
    "import os\n",
    "import pandas as pd\n",
    "from PIL import Image\n",
    "from svglib.svglib import svg2rlg\n",
    "from reportlab.graphics import renderPM\n",
    "import io\n",
    "\n",
    "# Set up paths\n",
    "path = \"C:/Users/janni/OneDrive/Dokumente/PostDoc/Projects/Patho Prompt Injection/First_Dataset\"\n",
    "input_file = os.path.join(path, \"Patient_Metadata_long.xlsx\")\n",
    "output_folder = os.path.join(path, \"output_images\")\n",
    "os.makedirs(output_folder, exist_ok=True)"
   ]
  },
  {
   "cell_type": "code",
   "execution_count": 2,
   "metadata": {},
   "outputs": [
    {
     "name": "stdout",
     "output_type": "stream",
     "text": [
      "All SVG files found successfully.\n"
     ]
    }
   ],
   "source": [
    "def create_label_dict(path):\n",
    "    def svg_path(filename):\n",
    "        return os.path.join(path, f\"{filename}.svg\")\n",
    "    \n",
    "    label_dict = {\n",
    "        \"0/1\": svg_path(\"0_1\"),\n",
    "        \"1/1\": svg_path(\"1_1\"),\n",
    "        \"0/2\": svg_path(\"0_2\"),\n",
    "        \"1/2\": svg_path(\"1_2\"),\n",
    "        \"2/2\": svg_path(\"2_2\"),\n",
    "        \"0/3\": svg_path(\"0_3\"),\n",
    "        \"1/3\": svg_path(\"1_3\"),\n",
    "        \"0/4\": svg_path(\"0_4\"),\n",
    "        \"1/4\": svg_path(\"1_4\"),\n",
    "        \"2/4\": svg_path(\"2_4\"),\n",
    "        \"0/5\": svg_path(\"0_5\"),\n",
    "        \"1/5\": svg_path(\"1_5\"),\n",
    "        \"pT1\": svg_path(\"pT1\"),\n",
    "        \"pT2\": svg_path(\"pT2\"),\n",
    "        \"pT3\": svg_path(\"pT3\"),\n",
    "        \"BRAF mut\": svg_path(\"BRAF_mut\"),\n",
    "        \"wildtype\": svg_path(\"wildtype\"),\n",
    "        \"RAS mut\": svg_path(\"RAS_mut\")\n",
    "    }\n",
    "    \n",
    "    missing_files = [label for label, file_path in label_dict.items() if not os.path.exists(file_path)]\n",
    "    if missing_files:\n",
    "        print(f\"Warning: The following SVG files are missing: {', '.join(missing_files)}\")\n",
    "    else:\n",
    "        print(\"All SVG files found successfully.\")\n",
    "    \n",
    "    return label_dict\n",
    "\n",
    "# Create the label dictionary\n",
    "label_dict = create_label_dict(path)"
   ]
  },
  {
   "cell_type": "code",
   "execution_count": 3,
   "metadata": {},
   "outputs": [],
   "source": [
    "import numpy as np\n",
    "from PIL import Image\n",
    "import io\n",
    "import logging\n",
    "\n",
    "logging.basicConfig(level=logging.INFO)\n",
    "logger = logging.getLogger(__name__)\n",
    "\n",
    "def find_whitest_area(image, grid_size=(3, 3)):\n",
    "    \"\"\"Find the whitest area in the image using a grid-based approach.\"\"\"\n",
    "    # Convert image to numpy array if it's not already\n",
    "    if isinstance(image, Image.Image):\n",
    "        image = np.array(image)\n",
    "    \n",
    "    # If image is RGBA, convert to RGB by removing alpha channel\n",
    "    if image.shape[2] == 4:\n",
    "        image = image[:,:,:3]\n",
    "    \n",
    "    # Calculate the \"whiteness\" of each pixel (higher value = whiter)\n",
    "    whiteness = np.mean(image, axis=2)\n",
    "    \n",
    "    height, width = whiteness.shape\n",
    "    cell_height, cell_width = height // grid_size[0], width // grid_size[1]\n",
    "    \n",
    "    max_whiteness = 0\n",
    "    best_cell = (0, 0)\n",
    "    \n",
    "    for i in range(grid_size[0]):\n",
    "        for j in range(grid_size[1]):\n",
    "            cell = whiteness[i*cell_height:(i+1)*cell_height, j*cell_width:(j+1)*cell_width]\n",
    "            cell_whiteness = np.mean(cell)\n",
    "            if cell_whiteness > max_whiteness:\n",
    "                max_whiteness = cell_whiteness\n",
    "                best_cell = (i, j)\n",
    "    \n",
    "    # Calculate the position for the label within the whitest cell\n",
    "    x = best_cell[1] * cell_width\n",
    "    y = best_cell[0] * cell_height\n",
    "    \n",
    "    return x, y, cell_width, cell_height"
   ]
  },
  {
   "cell_type": "code",
   "execution_count": 4,
   "metadata": {},
   "outputs": [],
   "source": [
    "import cairosvg\n",
    "\n",
    "def process_image(row, label_dict, base_path, output_folder, label_width_pct=0.2, label_height_pct=0.1, label_x_pct=0.05, label_y_pct=0.05, use_whitespace=False):\n",
    "    image_path = f\"{base_path}/{row['Study_ID']}.png\"\n",
    "    output_path = os.path.join(output_folder, f\"{row['Study_ID']}_{row['Label_Type']}.png\")\n",
    "   \n",
    "    try:\n",
    "        # Open the base image\n",
    "        base_image = Image.open(image_path).convert('RGBA')\n",
    "    except FileNotFoundError:\n",
    "        logger.error(f\"Image file not found: {image_path}\")\n",
    "        return\n",
    "    except Exception as e:\n",
    "        logger.error(f\"Error opening image {image_path}: {str(e)}\")\n",
    "        return\n",
    "    \n",
    "    if row['Label_Type'] != 'none':\n",
    "        prompt = row['True_Prompt'] if row['Label_Type'] == 'true' else row['False_Prompt']\n",
    "        svg_path = label_dict.get(prompt)\n",
    "       \n",
    "        if svg_path and os.path.exists(svg_path):\n",
    "            try:\n",
    "                label_width = max(1, int(base_image.width * label_width_pct))\n",
    "                label_height = max(1, int(base_image.height * label_height_pct))\n",
    "\n",
    "                png_data = cairosvg.svg2png(url=svg_path, output_width=label_width, output_height=label_height)\n",
    "                label_image = Image.open(io.BytesIO(png_data)).convert('RGBA')\n",
    "               \n",
    "                new_image = base_image.copy()\n",
    "               \n",
    "                if use_whitespace:\n",
    "                    label_x, label_y, _, _ = find_whitest_area(base_image)\n",
    "                    logger.info(f\"Whitest area found for {row['Study_ID']} at ({label_x}, {label_y})\")\n",
    "                else:\n",
    "                    label_x = int(base_image.width * label_x_pct)\n",
    "                    label_y = int(base_image.height * label_y_pct)\n",
    "\n",
    "                # Ensure label fits within the image\n",
    "                label_x = min(label_x, base_image.width - label_width)\n",
    "                label_y = min(label_y, base_image.height - label_height)\n",
    "\n",
    "                new_image.paste(label_image, (label_x, label_y), label_image)\n",
    "                logger.info(f\"Label added successfully to {row['Study_ID']} at position ({label_x}, {label_y})\")\n",
    "            except Exception as e:\n",
    "                logger.error(f\"Error adding label to {row['Study_ID']}: {str(e)}\")\n",
    "                new_image = base_image\n",
    "        else:\n",
    "            logger.warning(f\"SVG file not found for prompt '{prompt}' for {row['Study_ID']}\")\n",
    "            new_image = base_image\n",
    "    else:\n",
    "        new_image = base_image\n",
    "   \n",
    "    try:\n",
    "        new_image.save(output_path, 'PNG')\n",
    "        logger.info(f\"Processed: {output_path}\")\n",
    "    except Exception as e:\n",
    "        logger.error(f\"Error saving processed image {output_path}: {str(e)}\")\n",
    "        \n",
    "def process_images(df, label_dict, base_path, output_folder, limit=None, label_width_pct=0.2, label_height_pct=0.1, label_x_pct=0.05, label_y_pct=0.05, use_whitespace=False):\n",
    "    for index, row in df.iterrows():\n",
    "        if limit is not None and index >= limit:\n",
    "            break\n",
    "       \n",
    "        process_image(row, label_dict, base_path, output_folder, label_width_pct, label_height_pct, label_x_pct, label_y_pct, use_whitespace)\n",
    "   \n",
    "    logger.info(f\"Image processing complete. Processed {index + 1} images.\")"
   ]
  },
  {
   "cell_type": "code",
   "execution_count": null,
   "metadata": {},
   "outputs": [],
   "source": [
    "df = pd.read_excel(input_file)\n",
    "limit = None  # Set to None to process all images\n",
    "process_images(df, label_dict, path, output_folder, limit=limit, \n",
    "               label_width_pct=0.3, label_height_pct=0.2, \n",
    "               label_x_pct=0.05, label_y_pct=0.05, \n",
    "               use_whitespace=True)\n"
   ]
  },
  {
   "cell_type": "code",
   "execution_count": 5,
   "metadata": {},
   "outputs": [
    {
     "name": "stderr",
     "output_type": "stream",
     "text": [
      "INFO:__main__:Whitest area found for LN_1_1 at (1422, 846)\n",
      "INFO:__main__:Label added successfully to LN_1_1 at position (1422, 846)\n",
      "INFO:__main__:Processed: C:/Users/janni/OneDrive/Dokumente/PostDoc/Projects/Patho Prompt Injection/First_Dataset\\output_images\\LN_1_1_true.png\n",
      "INFO:__main__:Whitest area found for LN_1_1 at (1422, 846)\n",
      "INFO:__main__:Label added successfully to LN_1_1 at position (1422, 846)\n",
      "INFO:__main__:Processed: C:/Users/janni/OneDrive/Dokumente/PostDoc/Projects/Patho Prompt Injection/First_Dataset\\output_images\\LN_1_1_false.png\n",
      "INFO:__main__:Image processing complete. Processed 3 images.\n"
     ]
    }
   ],
   "source": [
    "df = pd.read_excel(input_file)\n",
    "limit = 2  # Set to None to process all images\n",
    "process_images(df, label_dict, path, output_folder, limit=limit, \n",
    "               label_width_pct=0.3, label_height_pct=0.2, \n",
    "               label_x_pct=0.05, label_y_pct=0.05, \n",
    "               use_whitespace=True)\n"
   ]
  }
 ],
 "metadata": {
  "kernelspec": {
   "display_name": "patho_prompt-inj",
   "language": "python",
   "name": "python3"
  },
  "language_info": {
   "codemirror_mode": {
    "name": "ipython",
    "version": 3
   },
   "file_extension": ".py",
   "mimetype": "text/x-python",
   "name": "python",
   "nbconvert_exporter": "python",
   "pygments_lexer": "ipython3",
   "version": "3.11.10"
  }
 },
 "nbformat": 4,
 "nbformat_minor": 4
}
