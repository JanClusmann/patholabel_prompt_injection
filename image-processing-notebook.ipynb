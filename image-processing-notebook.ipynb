{
 "cells": [
  {
   "cell_type": "markdown",
   "metadata": {},
   "source": [
    "# Image Processing with Labels\n",
    "\n",
    "This notebook processes patient images by adding labels based on the information in an Excel file."
   ]
  },
  {
   "cell_type": "code",
   "execution_count": null,
   "metadata": {},
   "outputs": [],
   "source": [
    "import os\n",
    "import pandas as pd\n",
    "from PIL import Image\n",
    "import cairosvg\n",
    "import io\n",
    "\n",
    "# Set up paths\n",
    "path = \"C:/Users/janni/OneDrive/Dokumente/PostDoc/Projects/Patho Prompt Injection/First_Dataset\"\n",
    "input_file = os.path.join(path, \"Patient_Metadata_long.xlsx\")\n",
    "output_folder = os.path.join(path, \"output_images\")\n",
    "os.makedirs(output_folder, exist_ok=True)"
   ]
  },
  {
   "cell_type": "code",
   "execution_count": null,
   "metadata": {},
   "outputs": [],
   "source": [
    "def create_label_dict(path):\n",
    "    def svg_path(filename):\n",
    "        return os.path.join(path, f\"{filename}.svg\")\n",
    "    \n",
    "    label_dict = {\n",
    "        \"0/1\": svg_path(\"0_1\"),\n",
    "        \"1/1\": svg_path(\"1_1\"),\n",
    "        \"0/2\": svg_path(\"0_2\"),\n",
    "        \"1/2\": svg_path(\"1_2\"),\n",
    "        \"2/2\": svg_path(\"2_2\"),\n",
    "        \"0/3\": svg_path(\"0_3\"),\n",
    "        \"1/3\": svg_path(\"1_3\"),\n",
    "        \"0/4\": svg_path(\"0_4\"),\n",
    "        \"1/4\": svg_path(\"1_4\"),\n",
    "        \"2/4\": svg_path(\"2_4\"),\n",
    "        \"0/5\": svg_path(\"0_5\"),\n",
    "        \"1/5\": svg_path(\"1_5\"),\n",
    "        \"pT1\": svg_path(\"pT1\"),\n",
    "        \"pT2\": svg_path(\"pT2\"),\n",
    "        \"pT3\": svg_path(\"pT3\"),\n",
    "        \"BRAF mut\": svg_path(\"BRAF_mut\"),\n",
    "        \"wildtype\": svg_path(\"wildtype\"),\n",
    "        \"RAS mut\": svg_path(\"RAS_mut\")\n",
    "    }\n",
    "    \n",
    "    missing_files = [label for label, file_path in label_dict.items() if not os.path.exists(file_path)]\n",
    "    if missing_files:\n",
    "        print(f\"Warning: The following SVG files are missing: {', '.join(missing_files)}\")\n",
    "    else:\n",
    "        print(\"All SVG files found successfully.\")\n",
    "    \n",
    "    return label_dict\n",
    "\n",
    "# Create the label dictionary\n",
    "label_dict = create_label_dict(path)\n",
    "\n",
    "# Print the label_dict for verification\n",
    "for label, file_path in label_dict.items():\n",
    "    print(f\"{label}: {file_path}\")"
   ]
  },
  {
   "cell_type": "code",
   "execution_count": null,
   "metadata": {},
   "outputs": [],
   "source": [
    "def process_image(row, label_dict, base_path, output_folder):\n",
    "    image_path = os.path.join(base_path, row['Patient_ID_File_Name'])\n",
    "    output_path = os.path.join(output_folder, f\"{row['Study_ID']}_{row['Label_Type']}.png\")\n",
    "    \n",
    "    # Open the base image\n",
    "    base_image = Image.open(image_path).convert('RGBA')\n",
    "    \n",
    "    if row['Label_Type'] != 'none':\n",
    "        # Determine which prompt to use\n",
    "        prompt = row['True_Prompt'] if row['Label_Type'] == 'true' else row['False_Prompt']\n",
    "        \n",
    "        # Get the SVG path from the label_dict\n",
    "        svg_path = label_dict.get(prompt)\n",
    "        \n",
    "        if svg_path and os.path.exists(svg_path):\n",
    "            # Convert SVG to PNG\n",
    "            png_data = cairosvg.svg2png(url=svg_path)\n",
    "            label_image = Image.open(io.BytesIO(png_data)).convert('RGBA')\n",
    "            \n",
    "            # Resize label if necessary\n",
    "            label_image = label_image.resize((base_image.width, base_image.height // 5))\n",
    "            \n",
    "            # Create a new image with room for both the base image and the label\n",
    "            new_image = Image.new('RGBA', (base_image.width, base_image.height + label_image.height))\n",
    "            \n",
    "            # Paste the base image and the label\n",
    "            new_image.paste(base_image, (0, 0))\n",
    "            new_image.paste(label_image, (0, base_image.height), mask=label_image)\n",
    "        else:\n",
    "            print(f\"Warning: SVG file not found for prompt '{prompt}'\")\n",
    "            new_image = base_image\n",
    "    else:\n",
    "        new_image = base_image\n",
    "    \n",
    "    # Save the image\n",
    "    new_image.save(output_path, 'PNG')\n",
    "    print(f\"Processed: {output_path}\")"
   ]
  },
  {
   "cell_type": "code",
   "execution_count": null,
   "metadata": {},
   "outputs": [],
   "source": [
    "# Read the Excel file\n",
    "df = pd.read_excel(input_file)\n",
    "\n",
    "# Process each row\n",
    "for _, row in df.iterrows():\n",
    "    process_image(row, label_dict, path, output_folder)\n",
    "\n",
    "print(\"Image processing complete.\")"
   ]
  }
 ],
 "metadata": {
  "kernelspec": {
   "display_name": "Python 3",
   "language": "python",
   "name": "python3"
  },
  "language_info": {
   "codemirror_mode": {
    "name": "ipython",
    "version": 3
   },
   "file_extension": ".py",
   "mimetype": "text/x-python",
   "name": "python",
   "nbconvert_exporter": "python",
   "pygments_lexer": "ipython3",
   "version": "3.8.5"
  }
 },
 "nbformat": 4,
 "nbformat_minor": 4
}
